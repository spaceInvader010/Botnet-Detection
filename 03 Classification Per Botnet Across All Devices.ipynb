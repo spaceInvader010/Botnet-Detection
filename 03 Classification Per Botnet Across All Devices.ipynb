{
 "cells": [
  {
   "cell_type": "code",
   "execution_count": 1,
   "metadata": {},
   "outputs": [],
   "source": [
    "%matplotlib inline\n",
    "import glob, os\n",
    "import matplotlib.pyplot as plt\n",
    "import numpy as np\n",
    "import pandas as pd"
   ]
  },
  {
   "cell_type": "code",
   "execution_count": 2,
   "metadata": {},
   "outputs": [],
   "source": [
    "pd.options.display.max_rows = 200\n",
    "\n",
    "plt.rcParams['figure.figsize'] = [20, 10]\n",
    "plt.rc('font', size=20)\n",
    "\n"
   ]
  },
  {
   "cell_type": "markdown",
   "metadata": {},
   "source": [
    "# Loading Dataset"
   ]
  },
  {
   "cell_type": "markdown",
   "metadata": {},
   "source": [
    "## IOT Devices\n",
    "\n",
    "The dataset has been extracted at `ROOT_PATH`, containing the data for each IOT device. There are 9 devices in total. There are folders for each IOT device containing `benign_traffic.csv` and further two folders for `gafgyt_attacks` and `mirai_attacks`"
   ]
  },
  {
   "cell_type": "code",
   "execution_count": 3,
   "metadata": {},
   "outputs": [],
   "source": [
    "ROOT_PATH = r'C:\\Users\\jessm\\Desktop\\HonoursProject\\N-BaIoT_Dataset'\n",
    "IOT_DEVS = [ 'Danmini_Doorbell',\n",
    "             'Ecobee_Thermostat',\n",
    "           # 'Ennio_Doorbell',\n",
    "             'Philips_Baby_Monitor',\n",
    "             '737E_Security_Cam',\n",
    "            '838_Security_Cam',\n",
    "           #  'Samsung_Webcam',\n",
    "             '1002_Security_Cam',\n",
    "             '1003_Security_Cam'\n",
    "           ]"
   ]
  },
  {
   "cell_type": "markdown",
   "metadata": {},
   "source": [
    "## Paths to CSVs\n",
    "We create a python dictionary that contains all the paths to the CSVs for the respective IOT devices"
   ]
  },
  {
   "cell_type": "code",
   "execution_count": 4,
   "metadata": {},
   "outputs": [
    {
     "name": "stdout",
     "output_type": "stream",
     "text": [
      "[Danmini_Doorbell]\n",
      "   benign_traffic.csv\n",
      "   gafgyt :  ['combo.csv', 'junk.csv', 'scan.csv', 'tcp.csv', 'udp.csv']\n",
      "   mirai :  ['ack.csv', 'scan.csv', 'syn.csv', 'udp.csv', 'udpplain.csv']\n",
      "[Ecobee_Thermostat]\n",
      "   benign_traffic.csv\n",
      "   gafgyt :  ['combo.csv', 'junk.csv', 'scan.csv', 'tcp.csv', 'udp.csv']\n",
      "   mirai :  ['ack.csv', 'scan.csv', 'syn.csv', 'udp.csv', 'udpplain.csv']\n",
      "[Philips_Baby_Monitor]\n",
      "   benign_traffic.csv\n",
      "   gafgyt :  ['combo.csv', 'junk.csv', 'scan.csv', 'tcp.csv', 'udp.csv']\n",
      "   mirai :  ['ack.csv', 'scan.csv', 'syn.csv', 'udp.csv', 'udpplain.csv']\n",
      "[737E_Security_Cam]\n",
      "   benign_traffic.csv\n",
      "   gafgyt :  ['combo.csv', 'junk.csv', 'scan.csv', 'tcp.csv', 'udp.csv']\n",
      "   mirai :  ['ack.csv', 'scan.csv', 'syn.csv', 'udp.csv', 'udpplain.csv']\n",
      "[838_Security_Cam]\n",
      "   benign_traffic.csv\n",
      "   gafgyt :  ['combo.csv', 'junk.csv', 'scan.csv', 'tcp.csv', 'udp.csv']\n",
      "   mirai :  ['ack.csv', 'scan.csv', 'syn.csv', 'udp.csv', 'udpplain.csv']\n",
      "[1002_Security_Cam]\n",
      "   benign_traffic.csv\n",
      "   gafgyt :  ['combo.csv', 'junk.csv', 'scan.csv', 'tcp.csv', 'udp.csv']\n",
      "   mirai :  ['ack.csv', 'scan.csv', 'syn.csv', 'udp.csv', 'udpplain.csv']\n",
      "[1003_Security_Cam]\n",
      "   benign_traffic.csv\n",
      "   gafgyt :  ['combo.csv', 'junk.csv', 'scan.csv', 'tcp.csv', 'udp.csv']\n",
      "   mirai :  ['ack.csv', 'scan.csv', 'syn.csv', 'udp.csv', 'udpplain.csv']\n"
     ]
    }
   ],
   "source": [
    "PATHS_DICT = {}\n",
    "\n",
    "for i in IOT_DEVS:\n",
    "    PATHS_DICT[i] = {}\n",
    "    print('[' + i + ']')\n",
    "    iot_dir = os.path.join(ROOT_PATH, i)\n",
    "    PATHS_DICT[i]['benign'] = os.path.join(iot_dir, 'benign_traffic.csv')\n",
    "    print('  ', 'benign_traffic.csv')\n",
    "    attacks = [ d for d in os.listdir(iot_dir)\n",
    "                   if os.path.isdir( os.path.join(iot_dir, d)) ]\n",
    "    for attack in attacks:\n",
    "        attack_name = attack.split('_')[0]\n",
    "        \n",
    "        PATHS_DICT[i][attack_name] = {}\n",
    "        attack_dir = os.path.join(iot_dir, attack)\n",
    "        types = [ f for f in os.listdir(attack_dir)\n",
    "                   if os.path.isfile( os.path.join(attack_dir, f)) ]\n",
    "        print('  ', attack_name, ': ', types)\n",
    "        for t in types:\n",
    "            type_name = t.split('.')[0]\n",
    "            PATHS_DICT[i][attack_name][type_name] = os.path.join(attack_dir,t)"
   ]
  },
  {
   "cell_type": "markdown",
   "metadata": {},
   "source": [
    "## Loading CSVs into Pandas\n",
    "We will create pandas dataframe for each botnet attack across all IOT devices. For each datafram we will combine the attack traffic with the benign traffic add the following two columns:\n",
    "- `traffic_type` : benign or attack (0 or 1)\n",
    "- `attack_type`  : type of attack e.g, ack, scan etc."
   ]
  },
  {
   "cell_type": "code",
   "execution_count": 5,
   "metadata": {},
   "outputs": [],
   "source": [
    "import pandas as pd\n",
    "\n",
    "nbaiot_dict = {}\n",
    "\n",
    "for iot_dev in PATHS_DICT:\n",
    "    b_df = pd.read_csv(PATHS_DICT[iot_dev]['benign'])\n",
    "    b_df['traffic_type'] = 'benign'\n",
    "    b_df['attack_type'] = 'benign'\n",
    "    \n",
    "    for botnet in [b for b in PATHS_DICT[iot_dev] if b != 'benign']:\n",
    "        if botnet not in nbaiot_dict:\n",
    "            nbaiot_dict[botnet] = pd.DataFrame()\n",
    "        \n",
    "        # Concatenate benign data to the botnet's DataFrame\n",
    "        nbaiot_dict[botnet] = pd.concat([nbaiot_dict[botnet], b_df], ignore_index=True)\n",
    "        \n",
    "        for attack in PATHS_DICT[iot_dev][botnet]:\n",
    "            a_df = pd.read_csv(PATHS_DICT[iot_dev][botnet][attack])\n",
    "            a_df['traffic_type'] = 'attack'\n",
    "            a_df['attack_type'] = attack\n",
    "            \n",
    "            # Concatenate attack data to the botnet's DataFrame\n",
    "            nbaiot_dict[botnet] = pd.concat([nbaiot_dict[botnet], a_df], ignore_index=True)\n"
   ]
  },
  {
   "cell_type": "code",
   "execution_count": 6,
   "metadata": {},
   "outputs": [
    {
     "name": "stdout",
     "output_type": "stream",
     "text": [
      "gafgyt : <benign+attack>\n",
      "mirai : <benign+attack>\n"
     ]
    }
   ],
   "source": [
    "for k in nbaiot_dict:\n",
    "    print(k,':','<benign+attack>')"
   ]
  },
  {
   "cell_type": "code",
   "execution_count": 7,
   "metadata": {},
   "outputs": [
    {
     "data": {
      "text/plain": [
       "(2663482, 117)"
      ]
     },
     "execution_count": 7,
     "metadata": {},
     "output_type": "execute_result"
    }
   ],
   "source": [
    "nbaiot_dict['gafgyt'].shape"
   ]
  },
  {
   "cell_type": "code",
   "execution_count": 8,
   "metadata": {},
   "outputs": [
    {
     "data": {
      "text/plain": [
       "(4133084, 117)"
      ]
     },
     "execution_count": 8,
     "metadata": {},
     "output_type": "execute_result"
    }
   ],
   "source": [
    "nbaiot_dict['mirai'].shape"
   ]
  },
  {
   "cell_type": "code",
   "execution_count": 9,
   "metadata": {},
   "outputs": [
    {
     "data": {
      "text/plain": [
       "attack    2198800\n",
       "benign     464682\n",
       "Name: traffic_type, dtype: int64"
      ]
     },
     "execution_count": 9,
     "metadata": {},
     "output_type": "execute_result"
    }
   ],
   "source": [
    "nbaiot_dict['gafgyt']['traffic_type'].value_counts()"
   ]
  },
  {
   "cell_type": "code",
   "execution_count": 10,
   "metadata": {},
   "outputs": [
    {
     "data": {
      "text/plain": [
       "attack    3668402\n",
       "benign     464682\n",
       "Name: traffic_type, dtype: int64"
      ]
     },
     "execution_count": 10,
     "metadata": {},
     "output_type": "execute_result"
    }
   ],
   "source": [
    "nbaiot_dict['mirai']['traffic_type'].value_counts()"
   ]
  },
  {
   "cell_type": "markdown",
   "metadata": {},
   "source": [
    "# Modeling"
   ]
  },
  {
   "cell_type": "markdown",
   "metadata": {},
   "source": [
    "### Pre processing\n",
    "Convert the target column `traffic_type` to integer 0 = benigh, 1 = attack "
   ]
  },
  {
   "cell_type": "code",
   "execution_count": 11,
   "metadata": {},
   "outputs": [],
   "source": [
    "for botnet in nbaiot_dict:\n",
    "    nbaiot = nbaiot_dict[botnet]\n",
    "\n",
    "    nbaiot.loc[ nbaiot['traffic_type']=='attack','traffic_type' ]=1\n",
    "    nbaiot.loc[ nbaiot['traffic_type']=='benign','traffic_type' ]=0\n",
    "    nbaiot['traffic_type'] = nbaiot['traffic_type'].astype(int)\n",
    "\n",
    "    nbaiot_dict[botnet] = nbaiot"
   ]
  },
  {
   "cell_type": "markdown",
   "metadata": {},
   "source": [
    "### Classifiers and training functions"
   ]
  },
  {
   "cell_type": "code",
   "execution_count": 12,
   "metadata": {},
   "outputs": [],
   "source": [
    "from sklearn.model_selection import train_test_split\n",
    "from sklearn.linear_model import LogisticRegression\n",
    "from sklearn.neighbors import KNeighborsClassifier\n",
    "from sklearn.ensemble import RandomForestClassifier, AdaBoostClassifier\n",
    "from sklearn.tree import DecisionTreeClassifier\n",
    "from sklearn.svm import SVC\n",
    "from sklearn.metrics import classification_report, confusion_matrix, accuracy_score\n"
   ]
  },
  {
   "cell_type": "code",
   "execution_count": 13,
   "metadata": {},
   "outputs": [],
   "source": [
    "classfiers = {\n",
    "    'KNN' : KNeighborsClassifier(),\n",
    "    'RFR' : RandomForestClassifier(),\n",
    "    'DTR' : DecisionTreeClassifier(),\n",
    "    'ADB' : AdaBoostClassifier(),\n",
    "    \n",
    "}\n",
    "\n",
    "def train_test_report( X, y, test_size=0.33, avg='macro avg' ):\n",
    "\n",
    "    X_train, X_test, y_train, y_test = train_test_split(\n",
    "                                        X, y, test_size=0.33, random_state=42)\n",
    "\n",
    "    result = []\n",
    "    for clf_name in classfiers:\n",
    "        clf = classfiers[clf_name]\n",
    "        clf.fit(X_train, y_train)\n",
    "        \n",
    "        y_preds = clf.predict(X_test)\n",
    "        \n",
    "        clrp = classification_report(y_test, y_preds, output_dict=True)\n",
    "        conf_mat = confusion_matrix(y_test, y_preds)\n",
    "        fp = conf_mat[0][1]\n",
    "        fn = conf_mat[1][0]\n",
    "        \n",
    "        result.append([\n",
    "            clf_name,\n",
    "            clrp['accuracy'],\n",
    "            clrp[avg]['precision'],\n",
    "            clrp[avg]['recall'],\n",
    "            clrp[avg]['f1-score'],\n",
    "            fp,\n",
    "            fn\n",
    "        ])\n",
    "\n",
    "    return result"
   ]
  },
  {
   "cell_type": "markdown",
   "metadata": {},
   "source": [
    "## Main Loop"
   ]
  },
  {
   "cell_type": "code",
   "execution_count": 14,
   "metadata": {
    "scrolled": true
   },
   "outputs": [
    {
     "name": "stdout",
     "output_type": "stream",
     "text": [
      "================ gafgyt ================\n",
      "['KNN', 0.9988179077308151, 0.998885251372267, 0.9970007807640306, 0.9979400302424479, 885, 154]\n",
      "['RFR', 0.9999988622788555, 0.9999993112985603, 0.9999967308937083, 0.9999980210905536, 1, 0]\n",
      "['DTR', 0.9999863473462655, 0.9999814136440879, 0.999971092340113, 0.9999762529028107, 8, 4]\n",
      "['ADB', 0.9999772455771091, 0.9999681623011543, 0.9999526807014896, 0.9999604213004226, 13, 7]\n",
      "================================================================\n",
      "\n",
      "================ mirai ================\n",
      "['KNN', 0.9960268872468873, 0.9928081384171855, 0.9871625190895552, 0.9899636840391911, 3710, 1709]\n",
      "['RFR', 0.9999978004542796, 0.9999901900514041, 0.9999987613695949, 0.9999944756616144, 0, 3]\n",
      "['DTR', 0.9999978004542796, 0.9999901900514041, 0.9999987613695949, 0.9999944756616144, 0, 3]\n",
      "['ADB', 0.9999992668180931, 0.9999967299743631, 0.9999995871231984, 0.9999981585433488, 0, 1]\n",
      "================================================================\n",
      "\n"
     ]
    }
   ],
   "source": [
    "all_results = [\n",
    "    ['BOTNET', 'CLASSIFIER', 'ACCURACY', 'PRECISION', 'RECALL', 'F1-SCORE', 'FALSE-P', 'FALSE-N' ]\n",
    "]\n",
    "\n",
    "for botnet in nbaiot_dict:\n",
    "    nbaiot = nbaiot_dict[botnet]\n",
    "\n",
    "    print(\"================\", botnet, \"================\")\n",
    "\n",
    "    X = nbaiot.drop( [\"attack_type\", \"traffic_type\" ], axis=1 )\n",
    "    y = nbaiot[\"traffic_type\"]\n",
    "\n",
    "    rep = train_test_report( X, y)\n",
    "    for r in rep:\n",
    "        print(r)\n",
    "        all_results.append( [botnet] + r )\n",
    "\n",
    "    print(\"================================================================\")\n",
    "    print(\"\")\n"
   ]
  },
  {
   "cell_type": "code",
   "execution_count": 15,
   "metadata": {},
   "outputs": [
    {
     "data": {
      "text/html": [
       "<div>\n",
       "<style scoped>\n",
       "    .dataframe tbody tr th:only-of-type {\n",
       "        vertical-align: middle;\n",
       "    }\n",
       "\n",
       "    .dataframe tbody tr th {\n",
       "        vertical-align: top;\n",
       "    }\n",
       "\n",
       "    .dataframe thead th {\n",
       "        text-align: right;\n",
       "    }\n",
       "</style>\n",
       "<table border=\"1\" class=\"dataframe\">\n",
       "  <thead>\n",
       "    <tr style=\"text-align: right;\">\n",
       "      <th></th>\n",
       "      <th>BOTNET</th>\n",
       "      <th>CLASSIFIER</th>\n",
       "      <th>ACCURACY</th>\n",
       "      <th>PRECISION</th>\n",
       "      <th>RECALL</th>\n",
       "      <th>F1-SCORE</th>\n",
       "      <th>FALSE-P</th>\n",
       "      <th>FALSE-N</th>\n",
       "    </tr>\n",
       "  </thead>\n",
       "  <tbody>\n",
       "    <tr>\n",
       "      <th>1</th>\n",
       "      <td>gafgyt</td>\n",
       "      <td>KNN</td>\n",
       "      <td>0.998818</td>\n",
       "      <td>0.998885</td>\n",
       "      <td>0.997001</td>\n",
       "      <td>0.99794</td>\n",
       "      <td>885</td>\n",
       "      <td>154</td>\n",
       "    </tr>\n",
       "    <tr>\n",
       "      <th>2</th>\n",
       "      <td>gafgyt</td>\n",
       "      <td>RFR</td>\n",
       "      <td>0.999999</td>\n",
       "      <td>0.999999</td>\n",
       "      <td>0.999997</td>\n",
       "      <td>0.999998</td>\n",
       "      <td>1</td>\n",
       "      <td>0</td>\n",
       "    </tr>\n",
       "    <tr>\n",
       "      <th>3</th>\n",
       "      <td>gafgyt</td>\n",
       "      <td>DTR</td>\n",
       "      <td>0.999986</td>\n",
       "      <td>0.999981</td>\n",
       "      <td>0.999971</td>\n",
       "      <td>0.999976</td>\n",
       "      <td>8</td>\n",
       "      <td>4</td>\n",
       "    </tr>\n",
       "    <tr>\n",
       "      <th>4</th>\n",
       "      <td>gafgyt</td>\n",
       "      <td>ADB</td>\n",
       "      <td>0.999977</td>\n",
       "      <td>0.999968</td>\n",
       "      <td>0.999953</td>\n",
       "      <td>0.99996</td>\n",
       "      <td>13</td>\n",
       "      <td>7</td>\n",
       "    </tr>\n",
       "    <tr>\n",
       "      <th>5</th>\n",
       "      <td>mirai</td>\n",
       "      <td>KNN</td>\n",
       "      <td>0.996027</td>\n",
       "      <td>0.992808</td>\n",
       "      <td>0.987163</td>\n",
       "      <td>0.989964</td>\n",
       "      <td>3710</td>\n",
       "      <td>1709</td>\n",
       "    </tr>\n",
       "    <tr>\n",
       "      <th>6</th>\n",
       "      <td>mirai</td>\n",
       "      <td>RFR</td>\n",
       "      <td>0.999998</td>\n",
       "      <td>0.99999</td>\n",
       "      <td>0.999999</td>\n",
       "      <td>0.999994</td>\n",
       "      <td>0</td>\n",
       "      <td>3</td>\n",
       "    </tr>\n",
       "    <tr>\n",
       "      <th>7</th>\n",
       "      <td>mirai</td>\n",
       "      <td>DTR</td>\n",
       "      <td>0.999998</td>\n",
       "      <td>0.99999</td>\n",
       "      <td>0.999999</td>\n",
       "      <td>0.999994</td>\n",
       "      <td>0</td>\n",
       "      <td>3</td>\n",
       "    </tr>\n",
       "    <tr>\n",
       "      <th>8</th>\n",
       "      <td>mirai</td>\n",
       "      <td>ADB</td>\n",
       "      <td>0.999999</td>\n",
       "      <td>0.999997</td>\n",
       "      <td>1.0</td>\n",
       "      <td>0.999998</td>\n",
       "      <td>0</td>\n",
       "      <td>1</td>\n",
       "    </tr>\n",
       "  </tbody>\n",
       "</table>\n",
       "</div>"
      ],
      "text/plain": [
       "0  BOTNET CLASSIFIER  ACCURACY PRECISION    RECALL  F1-SCORE FALSE-P FALSE-N\n",
       "1  gafgyt        KNN  0.998818  0.998885  0.997001   0.99794     885     154\n",
       "2  gafgyt        RFR  0.999999  0.999999  0.999997  0.999998       1       0\n",
       "3  gafgyt        DTR  0.999986  0.999981  0.999971  0.999976       8       4\n",
       "4  gafgyt        ADB  0.999977  0.999968  0.999953   0.99996      13       7\n",
       "5   mirai        KNN  0.996027  0.992808  0.987163  0.989964    3710    1709\n",
       "6   mirai        RFR  0.999998   0.99999  0.999999  0.999994       0       3\n",
       "7   mirai        DTR  0.999998   0.99999  0.999999  0.999994       0       3\n",
       "8   mirai        ADB  0.999999  0.999997       1.0  0.999998       0       1"
      ]
     },
     "execution_count": 15,
     "metadata": {},
     "output_type": "execute_result"
    }
   ],
   "source": [
    "res_df =pd.DataFrame(all_results, index=None)\n",
    "\n",
    "res_df, res_df.columns = res_df[1:] , res_df.iloc[0]\n",
    "\n",
    "res_df"
   ]
  },
  {
   "cell_type": "code",
   "execution_count": 16,
   "metadata": {},
   "outputs": [],
   "source": [
    "# Write to csv\n",
    "res_csv = res_df.to_csv(index=False)\n",
    "\n",
    "print(res_csv, file=open('03_results.csv', 'w'))\n"
   ]
  },
  {
   "cell_type": "markdown",
   "metadata": {},
   "source": [
    "### Load results from CSV"
   ]
  },
  {
   "cell_type": "code",
   "execution_count": 17,
   "metadata": {
    "scrolled": true
   },
   "outputs": [
    {
     "data": {
      "text/html": [
       "<div>\n",
       "<style scoped>\n",
       "    .dataframe tbody tr th:only-of-type {\n",
       "        vertical-align: middle;\n",
       "    }\n",
       "\n",
       "    .dataframe tbody tr th {\n",
       "        vertical-align: top;\n",
       "    }\n",
       "\n",
       "    .dataframe thead th {\n",
       "        text-align: right;\n",
       "    }\n",
       "</style>\n",
       "<table border=\"1\" class=\"dataframe\">\n",
       "  <thead>\n",
       "    <tr style=\"text-align: right;\">\n",
       "      <th></th>\n",
       "      <th>BOTNET</th>\n",
       "      <th>CLASSIFIER</th>\n",
       "      <th>ACCURACY</th>\n",
       "      <th>PRECISION</th>\n",
       "      <th>FALSE-P</th>\n",
       "      <th>FALSE-N</th>\n",
       "    </tr>\n",
       "  </thead>\n",
       "  <tbody>\n",
       "    <tr>\n",
       "      <th>0</th>\n",
       "      <td>gafgyt</td>\n",
       "      <td>KNN</td>\n",
       "      <td>0.998818</td>\n",
       "      <td>0.998885</td>\n",
       "      <td>885</td>\n",
       "      <td>154</td>\n",
       "    </tr>\n",
       "    <tr>\n",
       "      <th>1</th>\n",
       "      <td>gafgyt</td>\n",
       "      <td>RFR</td>\n",
       "      <td>0.999999</td>\n",
       "      <td>0.999999</td>\n",
       "      <td>1</td>\n",
       "      <td>0</td>\n",
       "    </tr>\n",
       "    <tr>\n",
       "      <th>2</th>\n",
       "      <td>gafgyt</td>\n",
       "      <td>DTR</td>\n",
       "      <td>0.999986</td>\n",
       "      <td>0.999981</td>\n",
       "      <td>8</td>\n",
       "      <td>4</td>\n",
       "    </tr>\n",
       "    <tr>\n",
       "      <th>3</th>\n",
       "      <td>gafgyt</td>\n",
       "      <td>ADB</td>\n",
       "      <td>0.999977</td>\n",
       "      <td>0.999968</td>\n",
       "      <td>13</td>\n",
       "      <td>7</td>\n",
       "    </tr>\n",
       "    <tr>\n",
       "      <th>4</th>\n",
       "      <td>mirai</td>\n",
       "      <td>KNN</td>\n",
       "      <td>0.996027</td>\n",
       "      <td>0.992808</td>\n",
       "      <td>3710</td>\n",
       "      <td>1709</td>\n",
       "    </tr>\n",
       "    <tr>\n",
       "      <th>5</th>\n",
       "      <td>mirai</td>\n",
       "      <td>RFR</td>\n",
       "      <td>0.999998</td>\n",
       "      <td>0.999990</td>\n",
       "      <td>0</td>\n",
       "      <td>3</td>\n",
       "    </tr>\n",
       "    <tr>\n",
       "      <th>6</th>\n",
       "      <td>mirai</td>\n",
       "      <td>DTR</td>\n",
       "      <td>0.999998</td>\n",
       "      <td>0.999990</td>\n",
       "      <td>0</td>\n",
       "      <td>3</td>\n",
       "    </tr>\n",
       "    <tr>\n",
       "      <th>7</th>\n",
       "      <td>mirai</td>\n",
       "      <td>ADB</td>\n",
       "      <td>0.999999</td>\n",
       "      <td>0.999997</td>\n",
       "      <td>0</td>\n",
       "      <td>1</td>\n",
       "    </tr>\n",
       "  </tbody>\n",
       "</table>\n",
       "</div>"
      ],
      "text/plain": [
       "   BOTNET CLASSIFIER  ACCURACY  PRECISION  FALSE-P  FALSE-N\n",
       "0  gafgyt        KNN  0.998818   0.998885      885      154\n",
       "1  gafgyt        RFR  0.999999   0.999999        1        0\n",
       "2  gafgyt        DTR  0.999986   0.999981        8        4\n",
       "3  gafgyt        ADB  0.999977   0.999968       13        7\n",
       "4   mirai        KNN  0.996027   0.992808     3710     1709\n",
       "5   mirai        RFR  0.999998   0.999990        0        3\n",
       "6   mirai        DTR  0.999998   0.999990        0        3\n",
       "7   mirai        ADB  0.999999   0.999997        0        1"
      ]
     },
     "execution_count": 17,
     "metadata": {},
     "output_type": "execute_result"
    }
   ],
   "source": [
    "res_df = pd.read_csv('03_results.csv')\n",
    "\n",
    "res_df = res_df[['BOTNET', 'CLASSIFIER', 'ACCURACY', 'PRECISION', 'FALSE-P', 'FALSE-N' ]]\n",
    "\n",
    "res_df"
   ]
  },
  {
   "cell_type": "code",
   "execution_count": 18,
   "metadata": {},
   "outputs": [
    {
     "data": {
      "text/html": [
       "<div>\n",
       "<style scoped>\n",
       "    .dataframe tbody tr th:only-of-type {\n",
       "        vertical-align: middle;\n",
       "    }\n",
       "\n",
       "    .dataframe tbody tr th {\n",
       "        vertical-align: top;\n",
       "    }\n",
       "\n",
       "    .dataframe thead th {\n",
       "        text-align: right;\n",
       "    }\n",
       "</style>\n",
       "<table border=\"1\" class=\"dataframe\">\n",
       "  <thead>\n",
       "    <tr style=\"text-align: right;\">\n",
       "      <th></th>\n",
       "      <th></th>\n",
       "      <th>ACCURACY</th>\n",
       "      <th>PRECISION</th>\n",
       "      <th>FALSE-P</th>\n",
       "      <th>FALSE-N</th>\n",
       "    </tr>\n",
       "    <tr>\n",
       "      <th>BOTNET</th>\n",
       "      <th>CLASSIFIER</th>\n",
       "      <th></th>\n",
       "      <th></th>\n",
       "      <th></th>\n",
       "      <th></th>\n",
       "    </tr>\n",
       "  </thead>\n",
       "  <tbody>\n",
       "    <tr>\n",
       "      <th rowspan=\"4\" valign=\"top\">gafgyt</th>\n",
       "      <th>KNN</th>\n",
       "      <td>0.998818</td>\n",
       "      <td>0.998885</td>\n",
       "      <td>885</td>\n",
       "      <td>154</td>\n",
       "    </tr>\n",
       "    <tr>\n",
       "      <th>RFR</th>\n",
       "      <td>0.999999</td>\n",
       "      <td>0.999999</td>\n",
       "      <td>1</td>\n",
       "      <td>0</td>\n",
       "    </tr>\n",
       "    <tr>\n",
       "      <th>DTR</th>\n",
       "      <td>0.999986</td>\n",
       "      <td>0.999981</td>\n",
       "      <td>8</td>\n",
       "      <td>4</td>\n",
       "    </tr>\n",
       "    <tr>\n",
       "      <th>ADB</th>\n",
       "      <td>0.999977</td>\n",
       "      <td>0.999968</td>\n",
       "      <td>13</td>\n",
       "      <td>7</td>\n",
       "    </tr>\n",
       "    <tr>\n",
       "      <th rowspan=\"4\" valign=\"top\">mirai</th>\n",
       "      <th>KNN</th>\n",
       "      <td>0.996027</td>\n",
       "      <td>0.992808</td>\n",
       "      <td>3710</td>\n",
       "      <td>1709</td>\n",
       "    </tr>\n",
       "    <tr>\n",
       "      <th>RFR</th>\n",
       "      <td>0.999998</td>\n",
       "      <td>0.999990</td>\n",
       "      <td>0</td>\n",
       "      <td>3</td>\n",
       "    </tr>\n",
       "    <tr>\n",
       "      <th>DTR</th>\n",
       "      <td>0.999998</td>\n",
       "      <td>0.999990</td>\n",
       "      <td>0</td>\n",
       "      <td>3</td>\n",
       "    </tr>\n",
       "    <tr>\n",
       "      <th>ADB</th>\n",
       "      <td>0.999999</td>\n",
       "      <td>0.999997</td>\n",
       "      <td>0</td>\n",
       "      <td>1</td>\n",
       "    </tr>\n",
       "  </tbody>\n",
       "</table>\n",
       "</div>"
      ],
      "text/plain": [
       "                   ACCURACY  PRECISION  FALSE-P  FALSE-N\n",
       "BOTNET CLASSIFIER                                       \n",
       "gafgyt KNN         0.998818   0.998885      885      154\n",
       "       RFR         0.999999   0.999999        1        0\n",
       "       DTR         0.999986   0.999981        8        4\n",
       "       ADB         0.999977   0.999968       13        7\n",
       "mirai  KNN         0.996027   0.992808     3710     1709\n",
       "       RFR         0.999998   0.999990        0        3\n",
       "       DTR         0.999998   0.999990        0        3\n",
       "       ADB         0.999999   0.999997        0        1"
      ]
     },
     "execution_count": 18,
     "metadata": {},
     "output_type": "execute_result"
    }
   ],
   "source": [
    "res_df.set_index(['BOTNET', 'CLASSIFIER'], inplace=True)\n",
    "res_df"
   ]
  },
  {
   "cell_type": "code",
   "execution_count": 19,
   "metadata": {},
   "outputs": [
    {
     "data": {
      "text/plain": [
       "<Axes: xlabel='BOTNET,CLASSIFIER'>"
      ]
     },
     "execution_count": 19,
     "metadata": {},
     "output_type": "execute_result"
    },
    {
     "data": {
      "image/png": "[encoded data removed]",
      "text/plain": [
       "<Figure size 2000x1000 with 1 Axes>"
      ]
     },
     "metadata": {},
     "output_type": "display_data"
    }
   ],
   "source": [
    "res_df.plot(kind='bar')"
   ]
  },
  {
   "cell_type": "code",
   "execution_count": null,
   "metadata": {},
   "outputs": [],
   "source": [
    "print(\"hello\")"
   ]
  },
  {
   "cell_type": "code",
   "execution_count": null,
   "metadata": {},
   "outputs": [],
   "source": []
  },
  {
   "cell_type": "code",
   "execution_count": null,
   "metadata": {},
   "outputs": [],
   "source": []
  },
  {
   "cell_type": "code",
   "execution_count": null,
   "metadata": {},
   "outputs": [],
   "source": []
  },
  {
   "cell_type": "code",
   "execution_count": null,
   "metadata": {},
   "outputs": [],
   "source": []
  },
  {
   "cell_type": "code",
   "execution_count": null,
   "metadata": {},
   "outputs": [],
   "source": []
  },
  {
   "cell_type": "code",
   "execution_count": null,
   "metadata": {},
   "outputs": [],
   "source": []
  }
 ],
 "metadata": {
  "kernelspec": {
   "display_name": "Python 3 (ipykernel)",
   "language": "python",
   "name": "python3"
  },
  "language_info": {
   "codemirror_mode": {
    "name": "ipython",
    "version": 3
   },
   "file_extension": ".py",
   "mimetype": "text/x-python",
   "name": "python",
   "nbconvert_exporter": "python",
   "pygments_lexer": "ipython3",
   "version": "3.10.8"
  }
 },
 "nbformat": 4,
 "nbformat_minor": 4
}
